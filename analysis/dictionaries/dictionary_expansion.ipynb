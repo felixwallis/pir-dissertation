{
 "cells": [
  {
   "cell_type": "markdown",
   "metadata": {},
   "source": [
    "# Dictionary Expansion\n"
   ]
  },
  {
   "cell_type": "markdown",
   "metadata": {},
   "source": [
    "This notebook uses GloVe embeddings created by [Rodrigues and Spirling (2022)](https://github.com/prodriguezsosa/EmbeddingsPaperReplication?tab=readme-ov-file) to expand the `shortened_congressional_record_procedural_stems` and `shortened_hansard_procedural_stems` dictionaries.\n"
   ]
  },
  {
   "cell_type": "markdown",
   "metadata": {},
   "source": [
    "## Setup\n"
   ]
  },
  {
   "cell_type": "code",
   "execution_count": 32,
   "metadata": {},
   "outputs": [],
   "source": [
    "import re\n",
    "import pandas as pd\n",
    "import pyreadr\n",
    "from nltk.stem import PorterStemmer\n",
    "from sklearn.metrics.pairwise import cosine_similarity\n",
    "\n",
    "DATA_PATH = 'data/'\n",
    "DIST_PATH = 'dist/'\n",
    "\n",
    "shortened_congressional_record_procedural_stems = pd.read_csv(\n",
    "    DIST_PATH + 'shortened_congressional_record_procedural_stems.csv')"
   ]
  },
  {
   "cell_type": "markdown",
   "metadata": {},
   "source": [
    "## Expanding the `shortened_congressional_record_procedural_stems` dictionary\n"
   ]
  },
  {
   "cell_type": "markdown",
   "metadata": {},
   "source": [
    "### Loading Rodriguez and Spirling's (2022) Congressional Record embeddings\n"
   ]
  },
  {
   "cell_type": "code",
   "execution_count": 26,
   "metadata": {},
   "outputs": [],
   "source": [
    "cr_embeddings = pyreadr.read_r(DATA_PATH + 'cr_embeddings_12_300_1.rds')[None]"
   ]
  },
  {
   "cell_type": "markdown",
   "metadata": {},
   "source": [
    "### Ensuring that the embeddings have been tokenized and stemmed\n"
   ]
  },
  {
   "cell_type": "code",
   "execution_count": 27,
   "metadata": {},
   "outputs": [],
   "source": [
    "regex = re.compile(r'[^a-z\\s]')\n",
    "stemmer = PorterStemmer()\n",
    "\n",
    "\n",
    "def clean_stem(word):\n",
    "    \"\"\"Cleans and stems a given word.\"\"\"\n",
    "    if not isinstance(word, str):\n",
    "        word = str(word)\n",
    "    word = word.lower()\n",
    "    word = regex.sub('', word)\n",
    "    stemmed_word = stemmer.stem(word)\n",
    "    return stemmed_word\n",
    "\n",
    "\n",
    "cr_embeddings.index = cr_embeddings.index.map(clean_stem)"
   ]
  },
  {
   "cell_type": "markdown",
   "metadata": {},
   "source": [
    "### Calculating the mean embedding for the `shortened_congressional_record_procedural_stems` dictionary\n"
   ]
  },
  {
   "cell_type": "code",
   "execution_count": 36,
   "metadata": {},
   "outputs": [],
   "source": [
    "embedded_cr_stems = shortened_congressional_record_procedural_stems.merge(\n",
    "    cr_embeddings, left_on='stem', right_index=True, how='inner').drop_duplicates(subset='stem').set_index('stem')\n",
    "\n",
    "embedded_cr_stems.columns = range(embedded_cr_stems.shape[1])\n",
    "\n",
    "mean_cr_procedural_embedding = embedded_cr_stems.mean()"
   ]
  },
  {
   "cell_type": "markdown",
   "metadata": {},
   "source": [
    "### Calculating the cosine similarity between the `shortened_congressional_record_procedural_stems` dictionary and the GloVe embeddings\n"
   ]
  },
  {
   "cell_type": "code",
   "execution_count": 37,
   "metadata": {},
   "outputs": [],
   "source": [
    "cr_procedural_cosine_similarities = cosine_similarity(\n",
    "    cr_embeddings, [mean_cr_procedural_embedding]).flatten()\n",
    "\n",
    "cr_procedural_cosine_similarities = pd.Series(\n",
    "    cr_procedural_cosine_similarities, index=cr_embeddings.index).sort_values(ascending=False)"
   ]
  }
 ],
 "metadata": {
  "kernelspec": {
   "display_name": ".venv",
   "language": "python",
   "name": "python3"
  },
  "language_info": {
   "codemirror_mode": {
    "name": "ipython",
    "version": 3
   },
   "file_extension": ".py",
   "mimetype": "text/x-python",
   "name": "python",
   "nbconvert_exporter": "python",
   "pygments_lexer": "ipython3",
   "version": "3.11.5"
  }
 },
 "nbformat": 4,
 "nbformat_minor": 2
}
