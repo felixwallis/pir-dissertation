{
 "cells": [
  {
   "cell_type": "code",
   "execution_count": 1,
   "id": "7ce5bb3f",
   "metadata": {},
   "outputs": [],
   "source": [
    "def compress_csv(path):\n",
    "    import pandas as pd\n",
    "    # Read path to pandas DataFrame\n",
    "    assert path[-4:] == '.csv', \"Check path is an uncompressed .csv file\"\n",
    "    print(\"Reading csv...\")\n",
    "    df = pd.read_csv(path)\n",
    "    print(\"Read complete.\")\n",
    "    print(\"Compressing to csv.gz\")\n",
    "    df.to_csv(path+'.gz', compression='gzip')\n",
    "    print(\"Compression complete.\")\n",
    "\n",
    "\n",
    "def compress_folder(path):\n",
    "    import tarfile\n",
    "    # open destination path\n",
    "    tar = tarfile.open(path+'.tar.7z', 'w:7z')\n",
    "    tar.add(path, arcname=path)\n",
    "    tar.close()"
   ]
  },
  {
   "cell_type": "code",
   "execution_count": 2,
   "id": "83875b9b",
   "metadata": {},
   "outputs": [
    {
     "name": "stdout",
     "output_type": "stream",
     "text": [
      "Reading csv...\n",
      "Read complete.\n",
      "Compressing to csv.gz\n",
      "Compression complete.\n"
     ]
    }
   ],
   "source": [
    "compress_csv('hansard_in_full.csv')"
   ]
  },
  {
   "cell_type": "code",
   "execution_count": 3,
   "id": "ab218ef8",
   "metadata": {},
   "outputs": [
    {
     "name": "stdout",
     "output_type": "stream",
     "text": [
      "Reading csv...\n",
      "Read complete.\n",
      "Compressing to csv.gz\n",
      "Compression complete.\n"
     ]
    }
   ],
   "source": [
    "compress_csv('hansard_with_mp_details.csv')"
   ]
  }
 ],
 "metadata": {
  "kernelspec": {
   "display_name": "Python 3",
   "language": "python",
   "name": "python3"
  },
  "language_info": {
   "codemirror_mode": {
    "name": "ipython",
    "version": 3
   },
   "file_extension": ".py",
   "mimetype": "text/x-python",
   "name": "python",
   "nbconvert_exporter": "python",
   "pygments_lexer": "ipython3",
   "version": "3.11.5"
  }
 },
 "nbformat": 4,
 "nbformat_minor": 5
}
