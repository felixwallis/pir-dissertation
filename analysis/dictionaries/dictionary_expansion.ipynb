{
 "cells": [
  {
   "cell_type": "markdown",
   "metadata": {},
   "source": [
    "# Dictionary Expansion\n"
   ]
  },
  {
   "cell_type": "markdown",
   "metadata": {},
   "source": [
    "This notebook uses GloVe embeddings created by [Rodrigues and Spirling (2022)](https://github.com/prodriguezsosa/EmbeddingsPaperReplication?tab=readme-ov-file) to expand the `shortened_congressional_record_procedural_stems` and `shortened_hansard_procedural_stems` dictionaries.\n"
   ]
  },
  {
   "cell_type": "markdown",
   "metadata": {},
   "source": [
    "## Setup\n"
   ]
  },
  {
   "cell_type": "code",
   "execution_count": 10,
   "metadata": {},
   "outputs": [],
   "source": [
    "import re\n",
    "import pandas as pd\n",
    "import pyreadr\n",
    "from nltk.stem import PorterStemmer\n",
    "from sklearn.metrics.pairwise import cosine_similarity\n",
    "\n",
    "DATA_PATH = 'data/'\n",
    "DIST_PATH = 'dist/'\n",
    "\n",
    "shortened_congressional_record_procedural_stems = pd.read_csv(\n",
    "    DIST_PATH + 'shortened_congressional_record_procedural_stems.csv')\n",
    "shortened_hansard_procedural_stems = pd.read_csv(\n",
    "    DIST_PATH + 'shortened_hansard_procedural_stems.csv')"
   ]
  },
  {
   "cell_type": "markdown",
   "metadata": {},
   "source": [
    "### Utility function for ensuring that embeddings have been stemmed\n"
   ]
  },
  {
   "cell_type": "code",
   "execution_count": 7,
   "metadata": {},
   "outputs": [],
   "source": [
    "regex = re.compile(r'[^a-z\\s]')\n",
    "stemmer = PorterStemmer()\n",
    "\n",
    "\n",
    "def clean_stem(word):\n",
    "    \"\"\"Cleans and stems a given word.\"\"\"\n",
    "    if not isinstance(word, str):\n",
    "        word = str(word)\n",
    "    word = word.lower()\n",
    "    word = regex.sub('', word)\n",
    "    stemmed_word = stemmer.stem(word)\n",
    "    return stemmed_word"
   ]
  },
  {
   "cell_type": "markdown",
   "metadata": {},
   "source": [
    "## Expanding the `shortened_congressional_record_procedural_stems` dictionary\n"
   ]
  },
  {
   "cell_type": "markdown",
   "metadata": {},
   "source": [
    "### Loading Rodriguez and Spirling's (2022) Congressional Record embeddings\n"
   ]
  },
  {
   "cell_type": "code",
   "execution_count": 14,
   "metadata": {},
   "outputs": [],
   "source": [
    "congressional_record_embeddings = pyreadr.read_r(\n",
    "    DATA_PATH + 'congressional_record_embeddings_12_300_1.rds')[None]\n",
    "congressional_record_embeddings.index = congressional_record_embeddings.index.map(\n",
    "    clean_stem)"
   ]
  },
  {
   "cell_type": "markdown",
   "metadata": {},
   "source": [
    "### Calculating the mean embedding for the `shortened_congressional_record_procedural_stems` dictionary\n"
   ]
  },
  {
   "cell_type": "code",
   "execution_count": 17,
   "metadata": {},
   "outputs": [],
   "source": [
    "embedded_congressional_record_stems = shortened_congressional_record_procedural_stems.merge(\n",
    "    congressional_record_embeddings, left_on='stem', right_index=True, how='inner').drop_duplicates(subset='stem').set_index('stem')\n",
    "\n",
    "mean_congressional_record_procedural_embedding = embedded_congressional_record_stems.mean()"
   ]
  },
  {
   "cell_type": "markdown",
   "metadata": {},
   "source": [
    "### Calculating the cosine similarity between the `shortened_congressional_record_procedural_stems` dictionary and the GloVe embeddings\n"
   ]
  },
  {
   "cell_type": "code",
   "execution_count": 5,
   "metadata": {},
   "outputs": [],
   "source": [
    "congressional_record_procedural_cosine_similarities = cosine_similarity(\n",
    "    congressional_record_embeddings, [mean_congressional_record_procedural_embedding]).flatten()\n",
    "\n",
    "congressional_record_procedural_cosine_similarities = pd.Series(\n",
    "    congressional_record_procedural_cosine_similarities, index=congressional_record_embeddings.index).sort_values(ascending=False)"
   ]
  },
  {
   "cell_type": "markdown",
   "metadata": {},
   "source": [
    "## Expanding the `shortened_hansard_procedural_stems` dictionary\n"
   ]
  },
  {
   "cell_type": "markdown",
   "metadata": {},
   "source": [
    "### Loading Rodriguez and Spirling's (2022) Hansard embeddings\n"
   ]
  },
  {
   "cell_type": "code",
   "execution_count": 8,
   "metadata": {},
   "outputs": [],
   "source": [
    "hansard_embeddings = pyreadr.read_r(\n",
    "    DATA_PATH + 'hansard_embeddings_12_300_1.rds')[None]\n",
    "hansard_embeddings.index = hansard_embeddings.index.map(clean_stem)"
   ]
  },
  {
   "cell_type": "markdown",
   "metadata": {},
   "source": [
    "### Calculating the mean embedding for the `shortened_hansard_procedural_stems` dictionary\n"
   ]
  },
  {
   "cell_type": "code",
   "execution_count": 19,
   "metadata": {},
   "outputs": [],
   "source": [
    "embedded_hansard_stems = shortened_hansard_procedural_stems.merge(\n",
    "    hansard_embeddings, left_on='stem', right_index=True, how='inner').drop_duplicates(subset='stem').set_index('stem')\n",
    "\n",
    "mean_hansard_procedural_embedding = embedded_hansard_stems.mean()"
   ]
  },
  {
   "cell_type": "markdown",
   "metadata": {},
   "source": [
    "### Calculating the cosine similarity between the `shortened_hansard_procedural_stems` dictionary and the GloVe embeddings\n"
   ]
  },
  {
   "cell_type": "code",
   "execution_count": 20,
   "metadata": {},
   "outputs": [],
   "source": [
    "hansard_procedural_cosine_similarities = cosine_similarity(\n",
    "    hansard_embeddings, [mean_hansard_procedural_embedding]).flatten()\n",
    "\n",
    "hansard_procedural_cosine_similarities = pd.Series(\n",
    "    hansard_procedural_cosine_similarities, index=hansard_embeddings.index).sort_values(ascending=False)"
   ]
  },
  {
   "cell_type": "code",
   "execution_count": 31,
   "metadata": {},
   "outputs": [],
   "source": [
    "filtered_series = hansard_procedural_cosine_similarities.loc[\n",
    "    hansard_procedural_cosine_similarities.index == 'pollut']"
   ]
  }
 ],
 "metadata": {
  "kernelspec": {
   "display_name": ".venv",
   "language": "python",
   "name": "python3"
  },
  "language_info": {
   "codemirror_mode": {
    "name": "ipython",
    "version": 3
   },
   "file_extension": ".py",
   "mimetype": "text/x-python",
   "name": "python",
   "nbconvert_exporter": "python",
   "pygments_lexer": "ipython3",
   "version": "3.11.5"
  }
 },
 "nbformat": 4,
 "nbformat_minor": 2
}
